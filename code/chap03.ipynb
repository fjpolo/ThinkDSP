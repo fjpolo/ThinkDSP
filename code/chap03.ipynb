{
 "cells": [
  {
   "cell_type": "markdown",
   "metadata": {},
   "source": [
    "## ThinkDSP\n",
    "\n",
    "This notebook contains code examples from Chapter 3: Non-periodic signals\n",
    "\n",
    "Copyright 2015 Allen Downey\n",
    "\n",
    "License: [Creative Commons Attribution 4.0 International](http://creativecommons.org/licenses/by/4.0/)"
   ]
  },
  {
   "cell_type": "code",
   "execution_count": null,
   "metadata": {},
   "outputs": [],
   "source": [
    "from __future__ import print_function, division\n",
    "\n",
    "%matplotlib inline\n",
    "\n",
    "import thinkdsp\n",
    "import thinkplot\n",
    "import numpy as np\n",
    "\n",
    "from ipywidgets import interact, interactive, fixed\n",
    "import ipywidgets as widgets"
   ]
  },
  {
   "cell_type": "markdown",
   "metadata": {},
   "source": [
    "### Chirp\n",
    "\n",
    "Make a linear chirp from A3 to A5."
   ]
  },
  {
   "cell_type": "code",
   "execution_count": null,
   "metadata": {},
   "outputs": [],
   "source": [
    "signal = thinkdsp.Chirp(start=220, end=880)\n",
    "wave1 = signal.make_wave(duration=2)\n",
    "wave1.make_audio()"
   ]
  },
  {
   "cell_type": "markdown",
   "metadata": {},
   "source": [
    "Here's what the waveform looks like near the beginning."
   ]
  },
  {
   "cell_type": "code",
   "execution_count": null,
   "metadata": {},
   "outputs": [],
   "source": [
    "wave1.segment(start=0, duration=0.01).plot()"
   ]
  },
  {
   "cell_type": "markdown",
   "metadata": {},
   "source": [
    "And near the end."
   ]
  },
  {
   "cell_type": "code",
   "execution_count": null,
   "metadata": {},
   "outputs": [],
   "source": [
    "wave1.segment(start=0.9, duration=0.01).plot()"
   ]
  },
  {
   "cell_type": "markdown",
   "metadata": {},
   "source": [
    "Here's an exponential chirp with the same frequency range and duration."
   ]
  },
  {
   "cell_type": "code",
   "execution_count": null,
   "metadata": {},
   "outputs": [],
   "source": [
    "signal = thinkdsp.ExpoChirp(start=220, end=880)\n",
    "wave2 = signal.make_wave(duration=2)\n",
    "wave2.make_audio()"
   ]
  },
  {
   "cell_type": "code",
   "execution_count": null,
   "metadata": {},
   "outputs": [],
   "source": [
    "spectrum = wave1.make_spectrum()\n",
    "spectrum.plot()"
   ]
  },
  {
   "cell_type": "code",
   "execution_count": null,
   "metadata": {},
   "outputs": [],
   "source": [
    "spectrum = wave2.make_spectrum()\n",
    "spectrum.plot()"
   ]
  },
  {
   "cell_type": "markdown",
   "metadata": {},
   "source": [
    "## Leakage\n",
    "\n",
    "Spectral leakage is when some of the energy at one frequency appears at another frequency (usually nearby).\n",
    "\n",
    "Let's look at the effect of leakage on a sine signal (which only contains one frequency component)."
   ]
  },
  {
   "cell_type": "code",
   "execution_count": null,
   "metadata": {},
   "outputs": [],
   "source": [
    "signal = thinkdsp.SinSignal(freq=440)"
   ]
  },
  {
   "cell_type": "markdown",
   "metadata": {},
   "source": [
    "If the duration is an integer multiple of the period, the beginning and end of the segment line up, and we get minimal leakage."
   ]
  },
  {
   "cell_type": "code",
   "execution_count": null,
   "metadata": {},
   "outputs": [],
   "source": [
    "duration = signal.period * 30\n",
    "wave = signal.make_wave(duration)\n",
    "wave.plot()"
   ]
  },
  {
   "cell_type": "code",
   "execution_count": null,
   "metadata": {},
   "outputs": [],
   "source": [
    "spectrum = wave.make_spectrum()\n",
    "spectrum.plot(high=880)\n",
    "thinkplot.config(xlabel='frequency (Hz)', ylabel='amplitude', legend=False)"
   ]
  },
  {
   "cell_type": "markdown",
   "metadata": {},
   "source": [
    "If the duration is not a multiple of a period, the leakage is pretty bad."
   ]
  },
  {
   "cell_type": "code",
   "execution_count": null,
   "metadata": {},
   "outputs": [],
   "source": [
    "duration = signal.period * 30.25\n",
    "wave = signal.make_wave(duration)\n",
    "wave.plot()"
   ]
  },
  {
   "cell_type": "code",
   "execution_count": null,
   "metadata": {},
   "outputs": [],
   "source": [
    "spectrum = wave.make_spectrum()\n",
    "spectrum.plot(high=880)\n",
    "thinkplot.config(xlabel='Frequency (Hz)')"
   ]
  },
  {
   "cell_type": "markdown",
   "metadata": {},
   "source": [
    "Windowing helps (but notice that it reduces the total energy)."
   ]
  },
  {
   "cell_type": "code",
   "execution_count": null,
   "metadata": {},
   "outputs": [],
   "source": [
    "wave.hamming()\n",
    "spectrum = wave.make_spectrum()\n",
    "spectrum.plot(high=880)\n",
    "thinkplot.config(xlabel='Frequency (Hz)')"
   ]
  },
  {
   "cell_type": "markdown",
   "metadata": {},
   "source": [
    "## Spectrogram\n",
    "\n",
    "If you blindly compute the DFT of a non-periodic segment, you get \"motion blur\"."
   ]
  },
  {
   "cell_type": "code",
   "execution_count": null,
   "metadata": {},
   "outputs": [],
   "source": [
    "signal = thinkdsp.Chirp(start=220, end=440)\n",
    "wave = signal.make_wave(duration=1)\n",
    "spectrum = wave.make_spectrum()\n",
    "spectrum.plot(high=700)\n",
    "thinkplot.config(xlabel='frequency (Hz)')"
   ]
  },
  {
   "cell_type": "markdown",
   "metadata": {},
   "source": [
    "A spectrogram is a visualization of a short-time DFT that lets you see how the spectrum varies over time."
   ]
  },
  {
   "cell_type": "code",
   "execution_count": null,
   "metadata": {},
   "outputs": [],
   "source": [
    "def plot_spectrogram(wave, seg_length):\n",
    "    spectrogram = wave.make_spectrogram(seg_length)\n",
    "    print('Time resolution (s)', spectrogram.time_res)\n",
    "    print('Frequency resolution (Hz)', spectrogram.freq_res)\n",
    "    spectrogram.plot(high=700)\n",
    "    thinkplot.show(xlabel='Time(s)', ylabel='Frequency (Hz)')"
   ]
  },
  {
   "cell_type": "code",
   "execution_count": null,
   "metadata": {},
   "outputs": [],
   "source": [
    "signal = thinkdsp.Chirp(start=220, end=440)\n",
    "wave = signal.make_wave(duration=1, framerate=11025)\n",
    "plot_spectrogram(wave, 512)"
   ]
  },
  {
   "cell_type": "markdown",
   "metadata": {},
   "source": [
    "If you increase the segment length, you get better frequency resolution, worse time resolution."
   ]
  },
  {
   "cell_type": "code",
   "execution_count": null,
   "metadata": {},
   "outputs": [],
   "source": [
    "plot_spectrogram(wave, 1024)"
   ]
  },
  {
   "cell_type": "markdown",
   "metadata": {},
   "source": [
    "If you decrease the segment length, you get better time resolution, worse frequency resolution."
   ]
  },
  {
   "cell_type": "code",
   "execution_count": null,
   "metadata": {},
   "outputs": [],
   "source": [
    "plot_spectrogram(wave, 256)"
   ]
  },
  {
   "cell_type": "code",
   "execution_count": null,
   "metadata": {},
   "outputs": [],
   "source": [
    "slider = widgets.IntSlider(min=128, max=4096, value=100, step=128)\n",
    "interact(plot_spectrogram, wave=fixed(wave), seg_length=slider);"
   ]
  },
  {
   "cell_type": "markdown",
   "metadata": {},
   "source": [
    "## Spectrum of a chirp\n",
    "\n",
    "The following interaction lets you customize the Eye of Sauron as you vary the start and end frequency of the chirp."
   ]
  },
  {
   "cell_type": "code",
   "execution_count": null,
   "metadata": {},
   "outputs": [],
   "source": [
    "def eye_of_sauron(start, end):\n",
    "    \"\"\"Plots the spectrum of a chirp.\n",
    "    \n",
    "    start: initial frequency\n",
    "    end: final frequency\n",
    "    \"\"\"\n",
    "    signal = thinkdsp.Chirp(start=start, end=end)\n",
    "    wave = signal.make_wave(duration=0.5)\n",
    "    spectrum = wave.make_spectrum()\n",
    "    \n",
    "    spectrum.plot(high=1200)\n",
    "    thinkplot.config(xlabel='frequency (Hz)', ylabel='amplitude')\n",
    "    \n",
    "    #TODO: add player"
   ]
  },
  {
   "cell_type": "code",
   "execution_count": null,
   "metadata": {},
   "outputs": [],
   "source": [
    "slider1 = widgets.FloatSlider(min=100, max=1000, value=100, step=50)\n",
    "slider2 = widgets.FloatSlider(min=100, max=1000, value=200, step=50)\n",
    "interact(eye_of_sauron, start=slider1, end=slider2);"
   ]
  },
  {
   "cell_type": "markdown",
   "metadata": {},
   "source": [
    "# Excercises "
   ]
  },
  {
   "cell_type": "markdown",
   "metadata": {},
   "source": [
    "## 3.2"
   ]
  },
  {
   "cell_type": "markdown",
   "metadata": {},
   "source": [
    "Write a class called SawtoothChirp that extends Chirp and\n",
    "overrides evaluate to generate a sawtooth waveform with frequency that\n",
    "increases (or decreases) linearly.\n",
    "\n",
    "Hint: combine the evaluate functions from Chirp and SawtoothSignal.\n",
    "\n",
    "Draw a sketch of what you think the spectrogram of this signal looks like,\n",
    "and then plot it. The effect of aliasing should be visually apparent, and if\n",
    "you listen carefully, you can hear it.\n"
   ]
  },
  {
   "cell_type": "code",
   "execution_count": null,
   "metadata": {},
   "outputs": [],
   "source": [
    "class SawtoothChirp(thinkdsp.Chirp):\n",
    "    \"\"\"Represents a sawtooth signal with varying frequency.\"\"\"\n",
    "\n",
    "    def _evaluate(self, ts, freqs):\n",
    "        \"\"\"Helper function that evaluates the signal.\n",
    "\n",
    "        ts: float array of times\n",
    "        freqs: float array of frequencies during each interval\n",
    "        \"\"\"\n",
    "        \n",
    "        \"\"\"\n",
    "        # Chirp\n",
    "        start, end = np.log10(self.start), np.log10(self.end)\n",
    "        freqs = np.logspace(start, end, len(ts) - 1)\n",
    "        return self._evaluate(ts, freqs)\n",
    "        \"\"\"\n",
    "\n",
    "        \"\"\"\n",
    "        #Sawtooth\n",
    "        ts = np.asarray(ts)\n",
    "        cycles = self.freq * ts + self.offset / PI2\n",
    "        frac, _ = np.modf(cycles)\n",
    "        ys = normalize(unbias(frac), self.amp)\n",
    "        return ys\n",
    "        \"\"\"\n",
    "        \n",
    "        dts = np.diff(ts)\n",
    "        dps = PI2 * freqs * dts\n",
    "        phases = np.cumsum(dps)\n",
    "        phases = np.insert(phases, 0, 0)\n",
    "        cycles = phases / PI2\n",
    "        frac, _ = np.modf(cycles)\n",
    "        ys = thinkdsp.normalize(thinkdsp.unbias(frac), self.amp)\n",
    "        return ys\n",
    "        "
   ]
  },
  {
   "cell_type": "code",
   "execution_count": null,
   "metadata": {},
   "outputs": [],
   "source": [
    "import math\n",
    "PI2 = 2 * math.pi\n",
    "#\n",
    "signal = SawtoothChirp(start=220, end=880)\n",
    "wave = signal.make_wave(duration=1, framerate=10000)\n",
    "wave.apodize()\n",
    "wave.make_audio()"
   ]
  },
  {
   "cell_type": "code",
   "execution_count": null,
   "metadata": {},
   "outputs": [],
   "source": [
    "wave.segment(start=0, duration=0.1).plot()"
   ]
  },
  {
   "cell_type": "code",
   "execution_count": null,
   "metadata": {},
   "outputs": [],
   "source": [
    "spectrum = wave.make_spectrum()\n",
    "spectrum.plot()"
   ]
  },
  {
   "cell_type": "code",
   "execution_count": null,
   "metadata": {},
   "outputs": [],
   "source": [
    "sp = wave.make_spectrogram(1024)\n",
    "sp.plot()\n",
    "thinkplot.config(xlabel='Time (s)', ylabel='Frequency (Hz)')"
   ]
  },
  {
   "cell_type": "markdown",
   "metadata": {},
   "source": [
    "## 3.3"
   ]
  },
  {
   "cell_type": "markdown",
   "metadata": {},
   "source": [
    "Make a sawtooth chirp that sweeps from 2500 to 3000 Hz, then\n",
    "use it to make a wave with duration 1 s and framerate 20 kHz. Draw a\n",
    "sketch of what you think the spectrum will look like. Then plot the spectrum and see if you got it right."
   ]
  },
  {
   "cell_type": "code",
   "execution_count": null,
   "metadata": {},
   "outputs": [],
   "source": [
    "signal = SawtoothChirp(start=2500, end=3000)\n",
    "wave = signal.make_wave(duration=1, framerate=20000)\n",
    "wave.apodize()\n",
    "wave.make_audio()"
   ]
  },
  {
   "cell_type": "code",
   "execution_count": null,
   "metadata": {},
   "outputs": [],
   "source": [
    "spectrum = wave.make_spectrum()\n",
    "spectrum.plot()"
   ]
  },
  {
   "cell_type": "markdown",
   "metadata": {},
   "source": [
    "## 3.4"
   ]
  },
  {
   "cell_type": "markdown",
   "metadata": {},
   "source": [
    " In musical terminology, a “glissando” is a note that slides from\n",
    "one pitch to another, so it is similar to a chirp.\n",
    "Find or make a recording of a glissando and plot a spectrogram of the first\n",
    "few seconds. One suggestion: George Gershwin’s Rhapsody in Blue starts\n",
    "with a famous clarinet glissando, which you can download from http://\n",
    "archive.org/details/rhapblue11924."
   ]
  },
  {
   "cell_type": "code",
   "execution_count": null,
   "metadata": {},
   "outputs": [],
   "source": [
    "wave = thinkdsp.read_wave('72475__rockwehrmann__glissup02.wav')\n",
    "wave.make_audio() "
   ]
  },
  {
   "cell_type": "code",
   "execution_count": null,
   "metadata": {},
   "outputs": [],
   "source": [
    "wave.make_spectrogram(512).plot(high=5000)"
   ]
  },
  {
   "cell_type": "markdown",
   "metadata": {},
   "source": [
    "## 3.5"
   ]
  },
  {
   "cell_type": "markdown",
   "metadata": {},
   "source": [
    "A trombone player can play a glissando by extending the trombone slide while blowing continuously. As the slide extends, the total length\n",
    "of the tube gets longer, and the resulting pitch is inversely proportional to\n",
    "length.\n",
    "\n",
    "Assuming that the player moves the slide at a constant speed, how does\n",
    "frequency vary with time?\n",
    "\n",
    "Write a class called TromboneGliss that extends Chirp and provides\n",
    "evaluate. Make a wave that simulates a trombone glissando from C3 up\n",
    "to F3 and back down to C3. C3 is 262 Hz; F3 is 349 Hz.\n",
    "\n",
    "Plot a spectrogram of the resulting wave. Is a trombone glissando more like\n",
    "a linear or exponential chirp?\n"
   ]
  },
  {
   "cell_type": "code",
   "execution_count": null,
   "metadata": {},
   "outputs": [],
   "source": [
    "class TromboneGliss(thinkdsp.Chirp):\n",
    "    \"\"\"Represents a trombone-like signal with varying frequency.\"\"\"\n",
    "    \n",
    "    def evaluate(self, ts):\n",
    "        \"\"\"Evaluates the signal at the given times.\n",
    "\n",
    "        ts: float array of times\n",
    "        \n",
    "        returns: float wave array\n",
    "        \"\"\"\n",
    "        l1, l2 = 1.0 / self.start, 1.0 / self.end\n",
    "        lengths = np.linspace(l1, l2, len(ts)-1)\n",
    "        freqs = 1 / lengths\n",
    "        return self._evaluate(ts, freqs)"
   ]
  },
  {
   "cell_type": "code",
   "execution_count": null,
   "metadata": {},
   "outputs": [],
   "source": [
    "#1st part\n",
    "low = 262\n",
    "high = 349\n",
    "signal = TromboneGliss(high, low)\n",
    "wave1 = signal.make_wave(duration=1)\n",
    "wave1.apodize()\n",
    "wave1.make_audio()"
   ]
  },
  {
   "cell_type": "code",
   "execution_count": null,
   "metadata": {},
   "outputs": [],
   "source": [
    "#2nd part\n",
    "signal = TromboneGliss(low, high)\n",
    "wave2 = signal.make_wave(duration=1)\n",
    "wave2.apodize()\n",
    "wave2.make_audio()"
   ]
  },
  {
   "cell_type": "code",
   "execution_count": null,
   "metadata": {},
   "outputs": [],
   "source": [
    "#Together\n",
    "wave = wave1 | wave2\n",
    "wave.make_audio()"
   ]
  },
  {
   "cell_type": "code",
   "execution_count": null,
   "metadata": {},
   "outputs": [],
   "source": [
    "sp = wave.make_spectrogram(2048)\n",
    "sp.plot(high=1000)\n"
   ]
  },
  {
   "cell_type": "markdown",
   "metadata": {},
   "source": [
    "## 3.6"
   ]
  },
  {
   "cell_type": "markdown",
   "metadata": {},
   "source": [
    "Make or find a recording of a series of vowel sounds and look\n",
    "at the spectrogram. Can you identify different vowels?"
   ]
  },
  {
   "cell_type": "code",
   "execution_count": null,
   "metadata": {},
   "outputs": [],
   "source": [
    "wave = thinkdsp.read_wave('87778__marcgascon7__vocals.wav')\n",
    "wave.make_audio()"
   ]
  },
  {
   "cell_type": "code",
   "execution_count": null,
   "metadata": {},
   "outputs": [],
   "source": [
    "wave.make_spectrogram(1024).plot(high=1000)"
   ]
  },
  {
   "cell_type": "markdown",
   "metadata": {},
   "source": [
    "The stripe across the bottom is probably background noise.  The peaks in the spectrogram are called \"formants\".\n",
    "\n",
    "In general, vowel sounds are distinguished by the amplitude ratios of the first two formants relative to the fundamental.  For more, see https://en.wikipedia.org/wiki/Formant\n",
    "\n",
    "We can see the formats more clearly by selecting a segment during 'ah'."
   ]
  },
  {
   "cell_type": "code",
   "execution_count": null,
   "metadata": {},
   "outputs": [],
   "source": [
    "high = 1000\n",
    "thinkplot.preplot(5)\n",
    "\n",
    "segment = wave.segment(start=1, duration=0.25)\n",
    "segment.make_spectrum().plot(high=high)"
   ]
  },
  {
   "cell_type": "markdown",
   "metadata": {},
   "source": [
    "The fundamental is near 100 Hz.  The next highest peaks are at 200 Hz and 700 Hz.  People who know more about this than I do can identify vowels by looking at spectrums, but I can't."
   ]
  },
  {
   "cell_type": "code",
   "execution_count": null,
   "metadata": {},
   "outputs": [],
   "source": [
    "segment.make_spectrogram(1024).plot(high=1000)"
   ]
  },
  {
   "cell_type": "markdown",
   "metadata": {},
   "source": [
    "The 'eh' segment has a high-amplitude formant near 500 Hz."
   ]
  },
  {
   "cell_type": "code",
   "execution_count": null,
   "metadata": {},
   "outputs": [],
   "source": [
    "segment = wave.segment(start=2.2, duration=0.25)\n",
    "segment.make_spectrum().plot(high=high)"
   ]
  },
  {
   "cell_type": "code",
   "execution_count": null,
   "metadata": {},
   "outputs": [],
   "source": [
    "segment.make_spectrogram(1024).plot(high=1000)"
   ]
  },
  {
   "cell_type": "markdown",
   "metadata": {},
   "source": [
    "The 'ih' segment has no high frequency components."
   ]
  },
  {
   "cell_type": "code",
   "execution_count": null,
   "metadata": {},
   "outputs": [],
   "source": [
    "segment = wave.segment(start=3.5, duration=0.25)\n",
    "segment.make_spectrum().plot(high=high)"
   ]
  },
  {
   "cell_type": "code",
   "execution_count": null,
   "metadata": {},
   "outputs": [],
   "source": [
    "segment.make_spectrogram(1024).plot(high=1000)"
   ]
  },
  {
   "cell_type": "markdown",
   "metadata": {},
   "source": [
    "The 'oh' segment has a high-amplitude formant near 500 Hz, even higher than the fundamental."
   ]
  },
  {
   "cell_type": "code",
   "execution_count": null,
   "metadata": {},
   "outputs": [],
   "source": [
    "segment = wave.segment(start=5.1, duration=0.25)\n",
    "segment.make_spectrum().plot(high=high)"
   ]
  },
  {
   "cell_type": "code",
   "execution_count": null,
   "metadata": {},
   "outputs": [],
   "source": [
    "segment.make_spectrogram(1024).plot(high=1000)"
   ]
  },
  {
   "cell_type": "markdown",
   "metadata": {},
   "source": [
    "The 'oo' segment has a high-amplitude formant near 300 Hz and no high-frequency components"
   ]
  },
  {
   "cell_type": "code",
   "execution_count": null,
   "metadata": {},
   "outputs": [],
   "source": [
    "segment = wave.segment(start=6.5, duration=0.25)\n",
    "segment.make_spectrum().plot(high=high)"
   ]
  },
  {
   "cell_type": "code",
   "execution_count": null,
   "metadata": {},
   "outputs": [],
   "source": [
    "segment.make_spectrogram(1024).plot(high=1000)"
   ]
  },
  {
   "cell_type": "code",
   "execution_count": null,
   "metadata": {},
   "outputs": [],
   "source": []
  }
 ],
 "metadata": {
  "kernelspec": {
   "display_name": "Python 3",
   "language": "python",
   "name": "python3"
  },
  "language_info": {
   "codemirror_mode": {
    "name": "ipython",
    "version": 3
   },
   "file_extension": ".py",
   "mimetype": "text/x-python",
   "name": "python",
   "nbconvert_exporter": "python",
   "pygments_lexer": "ipython3",
   "version": "3.7.6"
  }
 },
 "nbformat": 4,
 "nbformat_minor": 1
}
