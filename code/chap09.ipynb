{
 "cells": [
  {
   "cell_type": "markdown",
   "metadata": {},
   "source": [
    "## ThinkDSP\n",
    "\n",
    "This notebook contains code examples from Chapter 9: Differentiation and Integration\n",
    "\n",
    "Copyright 2015 Allen Downey\n",
    "\n",
    "License: [Creative Commons Attribution 4.0 International](http://creativecommons.org/licenses/by/4.0/)"
   ]
  },
  {
   "cell_type": "code",
   "execution_count": null,
   "metadata": {},
   "outputs": [],
   "source": [
    "%matplotlib inline\n",
    "\n",
    "import thinkdsp\n",
    "import thinkplot\n",
    "\n",
    "import numpy as np\n",
    "import pandas as pd\n",
    "import scipy.signal\n",
    "\n",
    "# suppress division by zero warning\n",
    "from warnings import simplefilter\n",
    "simplefilter('ignore', RuntimeWarning)\n",
    "\n",
    "PI2 = 2 * np.pi"
   ]
  },
  {
   "cell_type": "markdown",
   "metadata": {},
   "source": [
    "As the first example, I'll look at daily closing stock prices for Facebook, from its IPO on 17 May 2012 to 8 December 2015 (note: the dataset includes only trading days )"
   ]
  },
  {
   "cell_type": "code",
   "execution_count": null,
   "metadata": {},
   "outputs": [],
   "source": [
    "names = ['date', 'open', 'high', 'low', 'close', 'volume']\n",
    "df = pd.read_csv('fb.csv', header=0, names=names, parse_dates=[0])\n",
    "ys = df.close.values[::-1]\n",
    "len(ys)"
   ]
  },
  {
   "cell_type": "markdown",
   "metadata": {},
   "source": [
    "Here's what the time series looks like (ignoring the actual gaps between trading days)."
   ]
  },
  {
   "cell_type": "code",
   "execution_count": null,
   "metadata": {},
   "outputs": [],
   "source": [
    "close = thinkdsp.Wave(ys, framerate=1)\n",
    "close.plot()\n",
    "thinkplot.config(xlabel='Time (days)', ylabel='Price ($)')"
   ]
  },
  {
   "cell_type": "markdown",
   "metadata": {},
   "source": [
    "And here's the spectrum on a log-log scale."
   ]
  },
  {
   "cell_type": "code",
   "execution_count": null,
   "metadata": {
    "scrolled": true
   },
   "outputs": [],
   "source": [
    "close_spectrum = close.make_spectrum()\n",
    "close_spectrum.plot()\n",
    "thinkplot.config(xlabel='Frequency (1/day)', ylabel='Amplitude',\n",
    "                 xscale='log', yscale='log')"
   ]
  },
  {
   "cell_type": "code",
   "execution_count": null,
   "metadata": {},
   "outputs": [],
   "source": [
    "close_spectrum.estimate_slope().slope"
   ]
  },
  {
   "cell_type": "markdown",
   "metadata": {},
   "source": [
    "The slope of the power spectrum is -1.86, which is similar to red noise (which should have a slope of -2)."
   ]
  },
  {
   "cell_type": "markdown",
   "metadata": {},
   "source": [
    "We can use `np.diff` to compute the difference between successive elements, which is the daily change."
   ]
  },
  {
   "cell_type": "code",
   "execution_count": null,
   "metadata": {},
   "outputs": [],
   "source": [
    "change = thinkdsp.Wave(np.diff(ys), framerate=1)\n",
    "change.plot()\n",
    "thinkplot.config(xlabel='Time (days)', ylabel='Price change($)')"
   ]
  },
  {
   "cell_type": "markdown",
   "metadata": {},
   "source": [
    "And here's the spectrum of the daily changes:"
   ]
  },
  {
   "cell_type": "code",
   "execution_count": null,
   "metadata": {},
   "outputs": [],
   "source": [
    "change_spectrum = change.make_spectrum()\n",
    "change_spectrum.plot()\n",
    "thinkplot.config(xlabel='Frequency (1/day)', ylabel='Amplitude')"
   ]
  },
  {
   "cell_type": "markdown",
   "metadata": {},
   "source": [
    "Recall that the spectrum of white noise looks like white noise.\n",
    "\n",
    "Here's the spectrum on a log-log scale."
   ]
  },
  {
   "cell_type": "code",
   "execution_count": null,
   "metadata": {},
   "outputs": [],
   "source": [
    "change_spectrum.plot()\n",
    "thinkplot.config(xlabel='Frequency (1/day)', ylabel='Amplitude',\n",
    "                 xscale='log', yscale='log')"
   ]
  },
  {
   "cell_type": "markdown",
   "metadata": {},
   "source": [
    "The estimated slope is close to zero, which is consistent with white noise."
   ]
  },
  {
   "cell_type": "code",
   "execution_count": null,
   "metadata": {},
   "outputs": [],
   "source": [
    "change_spectrum.estimate_slope().slope"
   ]
  },
  {
   "cell_type": "markdown",
   "metadata": {},
   "source": [
    "We can think the diff operation as convolution with a difference window, [1, -1].\n",
    "\n",
    "And convolution with this window corresponds to multiplication by a filter.\n",
    "\n",
    "The following function computes the filter that corresponds to the window."
   ]
  },
  {
   "cell_type": "code",
   "execution_count": null,
   "metadata": {},
   "outputs": [],
   "source": [
    "def make_filter(window, wave):\n",
    "    \"\"\"Computes the filter that corresponds to a window.\n",
    "    \n",
    "    window: NumPy array\n",
    "    wave: wave used to choose the length and framerate\n",
    "    \n",
    "    returns: new Spectrum\n",
    "    \"\"\"\n",
    "    padded = thinkdsp.zero_pad(window, len(wave))\n",
    "    window_wave = thinkdsp.Wave(padded, framerate=wave.framerate)\n",
    "    window_spectrum = window_wave.make_spectrum()\n",
    "    return window_spectrum"
   ]
  },
  {
   "cell_type": "markdown",
   "metadata": {},
   "source": [
    "And here's what the filter looks like for the difference window:"
   ]
  },
  {
   "cell_type": "code",
   "execution_count": null,
   "metadata": {},
   "outputs": [],
   "source": [
    "diff_window = np.array([1.0, -1.0])\n",
    "diff_filter = make_filter(diff_window, close)\n",
    "diff_filter.plot()\n",
    "thinkplot.config(xlabel='Frequency (1/day)', ylabel='Amplitude ratio')"
   ]
  },
  {
   "cell_type": "markdown",
   "metadata": {},
   "source": [
    "And the angles:"
   ]
  },
  {
   "cell_type": "code",
   "execution_count": null,
   "metadata": {},
   "outputs": [],
   "source": [
    "thinkplot.plot(diff_filter.angles)\n",
    "thinkplot.config(xlabel='Frequency (1/day)', ylabel='Phase offset (radians)')"
   ]
  },
  {
   "cell_type": "markdown",
   "metadata": {},
   "source": [
    "So we could also compute the daily changes by multiplying the spectrum of closing prices by the diff filter:"
   ]
  },
  {
   "cell_type": "code",
   "execution_count": null,
   "metadata": {},
   "outputs": [],
   "source": [
    "change_spectrum2 = close_spectrum * diff_filter\n",
    "change_spectrum2.plot()\n",
    "thinkplot.config(xlabel='Frequency (1/day)', ylabel='Amplitude')"
   ]
  },
  {
   "cell_type": "markdown",
   "metadata": {},
   "source": [
    "And then converting the spectrum to a wave."
   ]
  },
  {
   "cell_type": "code",
   "execution_count": null,
   "metadata": {},
   "outputs": [],
   "source": [
    "change2 = change_spectrum2.make_wave()\n",
    "\n",
    "# we have to trim the first element to avoid wrap-around\n",
    "change2.ys = change2.ys[1:]\n",
    "change2.ts = change2.ts[1:]\n",
    "\n",
    "change2.plot()\n",
    "thinkplot.config(xlabel='Time (day)', ylabel='Price change ($)')"
   ]
  },
  {
   "cell_type": "markdown",
   "metadata": {},
   "source": [
    "Then we can confirm that we get the same result both ways (within floating point error)."
   ]
  },
  {
   "cell_type": "code",
   "execution_count": null,
   "metadata": {},
   "outputs": [],
   "source": [
    "max(abs(change.ys - change2.ys))"
   ]
  },
  {
   "cell_type": "markdown",
   "metadata": {},
   "source": [
    "### Differentiation\n",
    "\n",
    "This diff operation is an approximation of differentiation, and we can compute the filter for differentiation analytically: each complex component is multiplied by $2 \\pi i f$."
   ]
  },
  {
   "cell_type": "code",
   "execution_count": null,
   "metadata": {},
   "outputs": [],
   "source": [
    "#start with a filter that has the right size, then replace hs\n",
    "deriv_filter = close.make_spectrum()\n",
    "deriv_filter.hs = PI2 * 1j * deriv_filter.fs\n",
    "deriv_filter.plot()\n",
    "thinkplot.config(xlabel='Frequency (1/day)', ylabel='Amplitude ratio')"
   ]
  },
  {
   "cell_type": "markdown",
   "metadata": {},
   "source": [
    "Now we can apply the derivative filter to the spectrum of closing prices:"
   ]
  },
  {
   "cell_type": "code",
   "execution_count": null,
   "metadata": {},
   "outputs": [],
   "source": [
    "deriv_spectrum = close.make_spectrum().differentiate()\n",
    "\n",
    "deriv_spectrum.plot()\n",
    "thinkplot.config(xlabel='Frequency (1/day)', ylabel='Amplitude')"
   ]
  },
  {
   "cell_type": "markdown",
   "metadata": {},
   "source": [
    "The results are similar to what we got from `np.diff`, with some differences due to (1) the difference window is only a coarse approximation of the derivative, especially at higher frequencies, and (2) the spectral derivative is based on the assumption that the signal is periodic, so the behavior at the beginning and end is different."
   ]
  },
  {
   "cell_type": "code",
   "execution_count": null,
   "metadata": {},
   "outputs": [],
   "source": [
    "deriv = deriv_spectrum.make_wave()\n",
    "len(deriv), len(change)"
   ]
  },
  {
   "cell_type": "code",
   "execution_count": null,
   "metadata": {},
   "outputs": [],
   "source": [
    "GRAY = '0.7'\n",
    "deriv = deriv_spectrum.make_wave()\n",
    "change.plot(color=GRAY, alpha=0.5)\n",
    "deriv.plot(alpha=0.3)\n",
    "thinkplot.config(xlabel='Time (day)')"
   ]
  },
  {
   "cell_type": "markdown",
   "metadata": {},
   "source": [
    "We can see the differences more clearly by zooming in on a slice:"
   ]
  },
  {
   "cell_type": "code",
   "execution_count": null,
   "metadata": {},
   "outputs": [],
   "source": [
    "low, high = 0, 50\n",
    "thinkplot.preplot(2)\n",
    "thinkplot.plot(change.ys[low:high], label='diff')\n",
    "thinkplot.plot(deriv.ys[low:high], label='deriv')\n",
    "thinkplot.config(xlabel='Time (day)', ylabel='Price change ($)')"
   ]
  },
  {
   "cell_type": "markdown",
   "metadata": {},
   "source": [
    "The diffs and the spectral derivative are similar in many places, but sometimes substantially different."
   ]
  },
  {
   "cell_type": "markdown",
   "metadata": {},
   "source": [
    "Here's the difference between the derivative filter and the difference filter:"
   ]
  },
  {
   "cell_type": "code",
   "execution_count": null,
   "metadata": {},
   "outputs": [],
   "source": [
    "deriv_filter.plot()\n",
    "diff_filter.plot()\n",
    "thinkplot.config(xlabel='Frequency (1/day)', ylabel='Amplitude ratio')"
   ]
  },
  {
   "cell_type": "markdown",
   "metadata": {},
   "source": [
    "The difference filter does not amplify the highest frequencies as much, which is why the diffs are smoother than the derivative."
   ]
  },
  {
   "cell_type": "markdown",
   "metadata": {},
   "source": [
    "## Integration\n",
    "\n",
    "Now let's think about integration.  We can compute the filter for integration analytically: each frequency component gets divided by $2 \\pi i f$.\n",
    "\n",
    "I plot the result on a log-y scale so we can see it more clearly."
   ]
  },
  {
   "cell_type": "code",
   "execution_count": null,
   "metadata": {},
   "outputs": [],
   "source": [
    "#start with a copy of the deriv filter and replace the hs\n",
    "integ_filter = deriv_filter.copy()\n",
    "integ_filter.hs = 1 / (PI2 * 1j * integ_filter.fs)\n",
    "\n",
    "# set the component at freq=0 to infinity\n",
    "integ_filter.hs[0] = np.inf\n",
    "\n",
    "integ_filter.plot()\n",
    "thinkplot.config(xlabel='Frequency (1/day)', ylabel='Amplitude ratio', \n",
    "                 yscale='log')"
   ]
  },
  {
   "cell_type": "markdown",
   "metadata": {},
   "source": [
    "We can confirm that the integration filter is correct by applying it to the spectrum of the derivative we just computed:"
   ]
  },
  {
   "cell_type": "code",
   "execution_count": null,
   "metadata": {},
   "outputs": [],
   "source": [
    "integ_spectrum = deriv_spectrum.copy().integrate()\n",
    "integ_spectrum.hs[0] = 0\n",
    "integ_spectrum.plot()\n",
    "thinkplot.config(xlabel='Frequency (1/day)', ylabel='Amplitude')\n",
    "thinkplot.config(yscale='log')"
   ]
  },
  {
   "cell_type": "markdown",
   "metadata": {},
   "source": [
    "And then converting back to a wave.  The result is identical to the daily closing prices we started with, but shifted so the mean is 0.  \n",
    "\n",
    "The reason the mean is 0 is that the derivative clobbers the first element of the spectrum, which is the bias.  Once the bias information is lost, integration can't restore it.  So the result has an unspecified constant of integration."
   ]
  },
  {
   "cell_type": "code",
   "execution_count": null,
   "metadata": {},
   "outputs": [],
   "source": [
    "thinkplot.preplot(2)\n",
    "integ_wave = integ_spectrum.make_wave()\n",
    "close.plot(label='closing prices')\n",
    "integ_wave.plot(label='integrated derivative')\n",
    "thinkplot.config(xlabel='Time (day)', ylabel='Price ($)', \n",
    "                 legend=True, loc='upper left')"
   ]
  },
  {
   "cell_type": "code",
   "execution_count": null,
   "metadata": {},
   "outputs": [],
   "source": [
    "shift = np.mean(close.ys) - np.mean(integ_wave.ys)\n",
    "\n",
    "diff = integ_wave.ys - close.ys + shift\n",
    "max(abs(diff))"
   ]
  },
  {
   "cell_type": "markdown",
   "metadata": {},
   "source": [
    "### Cumulative sum\n",
    "\n",
    "In the same way that the diff operator approximates differentiation, the cumulative sum approximates integration.\n",
    "\n",
    "I'll demonstrate with a Sawtooth signal."
   ]
  },
  {
   "cell_type": "code",
   "execution_count": null,
   "metadata": {},
   "outputs": [],
   "source": [
    "in_wave = thinkdsp.SawtoothSignal(freq=50).make_wave(duration=0.1, framerate=44100)\n",
    "in_wave.unbias()\n",
    "in_wave.plot()\n",
    "thinkplot.config(xlabel='Time (s)')"
   ]
  },
  {
   "cell_type": "markdown",
   "metadata": {},
   "source": [
    "Here's the spectrum before the cumulative sum:"
   ]
  },
  {
   "cell_type": "code",
   "execution_count": null,
   "metadata": {},
   "outputs": [],
   "source": [
    "in_spectrum = in_wave.make_spectrum()\n",
    "in_spectrum.plot()\n",
    "thinkplot.config(xlabel='Frequency (Hz)',\n",
    "                 ylabel='Amplitude')"
   ]
  },
  {
   "cell_type": "markdown",
   "metadata": {},
   "source": [
    "The output wave is the cumulative sum of the input"
   ]
  },
  {
   "cell_type": "code",
   "execution_count": null,
   "metadata": {
    "scrolled": true
   },
   "outputs": [],
   "source": [
    "out_wave = in_wave.cumsum()\n",
    "out_wave.unbias()\n",
    "out_wave.plot()\n",
    "thinkplot.config(xlabel='Time (s)')"
   ]
  },
  {
   "cell_type": "markdown",
   "metadata": {},
   "source": [
    "And here's its spectrum"
   ]
  },
  {
   "cell_type": "code",
   "execution_count": null,
   "metadata": {},
   "outputs": [],
   "source": [
    "out_spectrum = out_wave.make_spectrum()\n",
    "out_spectrum.plot()\n",
    "thinkplot.config(xlabel='Frequency (Hz)',\n",
    "                 ylabel='Amplitude')"
   ]
  },
  {
   "cell_type": "markdown",
   "metadata": {},
   "source": [
    "Now we compute the ratio of the output to the input:"
   ]
  },
  {
   "cell_type": "code",
   "execution_count": null,
   "metadata": {},
   "outputs": [],
   "source": [
    "sum(in_spectrum.amps < 1), len(in_spectrum)"
   ]
  },
  {
   "cell_type": "markdown",
   "metadata": {},
   "source": [
    "In between the harmonics, the input componenents are small, so I set those ratios to NaN."
   ]
  },
  {
   "cell_type": "code",
   "execution_count": null,
   "metadata": {},
   "outputs": [],
   "source": [
    "ratio_spectrum = out_spectrum.ratio(in_spectrum, thresh=1)\n",
    "ratio_spectrum.plot(style='.', markersize=4)\n",
    "\n",
    "thinkplot.config(xlabel='Frequency (Hz)',\n",
    "                 ylabel='Amplitude ratio',\n",
    "                 yscale='log')"
   ]
  },
  {
   "cell_type": "markdown",
   "metadata": {},
   "source": [
    "To get the cumsum filter, I compute the diff filter again and invert it."
   ]
  },
  {
   "cell_type": "code",
   "execution_count": null,
   "metadata": {},
   "outputs": [],
   "source": [
    "diff_window = np.array([1.0, -1.0])\n",
    "padded = thinkdsp.zero_pad(diff_window, len(in_wave))\n",
    "diff_wave = thinkdsp.Wave(padded, framerate=in_wave.framerate)\n",
    "diff_filter = diff_wave.make_spectrum()\n",
    "\n",
    "cumsum_filter = diff_filter.copy()\n",
    "cumsum_filter.hs = 1 / cumsum_filter.hs\n",
    "cumsum_filter.hs[0] = 0\n",
    "cumsum_filter.plot(label='cumsum filter', color=GRAY, linewidth=7)\n",
    "\n",
    "integ_filter = cumsum_filter.copy()\n",
    "integ_filter.hs = integ_filter.framerate / (PI2 * 1j * integ_filter.fs)\n",
    "integ_filter.plot(label='integral filter')\n",
    "\n",
    "thinkplot.config(xlabel='Frequency (Hz)',\n",
    "                 ylabel='Amplitude ratio',\n",
    "                 yscale='log', \n",
    "                 legend=True, loc='upper right')"
   ]
  },
  {
   "cell_type": "markdown",
   "metadata": {},
   "source": [
    "Finally, we can compare the computed ratios to the filter.  They match, confirming that the cumsum filter is the inverse of the diff filter."
   ]
  },
  {
   "cell_type": "code",
   "execution_count": null,
   "metadata": {},
   "outputs": [],
   "source": [
    "cumsum_filter.plot(label='cumsum filter', color=GRAY, linewidth=7)\n",
    "ratio_spectrum.plot(label='ratio', style='.', markersize=4)\n",
    "thinkplot.config(xlabel='Frequency (Hz)',\n",
    "                 ylabel='Amplitude ratio',\n",
    "                 yscale='log', legend=True)"
   ]
  },
  {
   "cell_type": "markdown",
   "metadata": {},
   "source": [
    "Now we can compute the output wave using the convolution theorem, and compare the results:"
   ]
  },
  {
   "cell_type": "code",
   "execution_count": null,
   "metadata": {},
   "outputs": [],
   "source": [
    "len(in_spectrum), len(cumsum_filter)"
   ]
  },
  {
   "cell_type": "code",
   "execution_count": null,
   "metadata": {
    "scrolled": true
   },
   "outputs": [],
   "source": [
    "thinkplot.preplot(2)\n",
    "\n",
    "out_wave.plot(label='cumsum')\n",
    "\n",
    "out_wave2 = (in_spectrum * cumsum_filter).make_wave()\n",
    "out_wave2.plot(label='filtered')\n",
    "\n",
    "thinkplot.config(legend=True, loc='lower right')\n",
    "thinkplot.config(xlabel='Time (s)')"
   ]
  },
  {
   "cell_type": "markdown",
   "metadata": {},
   "source": [
    "They are the same, within floating point error."
   ]
  },
  {
   "cell_type": "code",
   "execution_count": null,
   "metadata": {},
   "outputs": [],
   "source": [
    "max(abs(out_wave.ys - out_wave2.ys))"
   ]
  },
  {
   "cell_type": "code",
   "execution_count": null,
   "metadata": {},
   "outputs": [],
   "source": []
  }
 ],
 "metadata": {
  "kernelspec": {
   "display_name": "Python 3",
   "language": "python",
   "name": "python3"
  },
  "language_info": {
   "codemirror_mode": {
    "name": "ipython",
    "version": 3
   },
   "file_extension": ".py",
   "mimetype": "text/x-python",
   "name": "python",
   "nbconvert_exporter": "python",
   "pygments_lexer": "ipython3",
   "version": "3.7.6"
  }
 },
 "nbformat": 4,
 "nbformat_minor": 1
}
