{
 "cells": [
  {
   "cell_type": "markdown",
   "metadata": {},
   "source": [
    "## ThinkDSP\n",
    "\n",
    "This notebook contains code examples from Chapter 2: Harmonics\n",
    "\n",
    "Copyright 2015 Allen Downey\n",
    "\n",
    "License: [Creative Commons Attribution 4.0 International](http://creativecommons.org/licenses/by/4.0/)"
   ]
  },
  {
   "cell_type": "code",
   "execution_count": null,
   "metadata": {},
   "outputs": [],
   "source": [
    "from __future__ import print_function, division\n",
    "\n",
    "%matplotlib inline\n",
    "\n",
    "import thinkdsp\n",
    "import thinkplot\n",
    "\n",
    "from ipywidgets import interact, interactive, fixed\n",
    "import ipywidgets as widgets\n",
    "from IPython.display import display"
   ]
  },
  {
   "cell_type": "markdown",
   "metadata": {},
   "source": [
    "## Waveforms and harmonics\n",
    "\n",
    "Create a triangle signal and plot a 3 period segment."
   ]
  },
  {
   "cell_type": "code",
   "execution_count": null,
   "metadata": {},
   "outputs": [],
   "source": [
    "signal = thinkdsp.TriangleSignal(200)\n",
    "duration = signal.period*3\n",
    "segment = signal.make_wave(duration, framerate=10000)\n",
    "segment.plot()"
   ]
  },
  {
   "cell_type": "markdown",
   "metadata": {},
   "source": [
    "Make a wave and play it."
   ]
  },
  {
   "cell_type": "code",
   "execution_count": null,
   "metadata": {},
   "outputs": [],
   "source": [
    "wave = signal.make_wave(duration=0.5, framerate=10000)\n",
    "wave.apodize()\n",
    "wave.make_audio()"
   ]
  },
  {
   "cell_type": "markdown",
   "metadata": {},
   "source": [
    "Compute its spectrum and plot it."
   ]
  },
  {
   "cell_type": "code",
   "execution_count": null,
   "metadata": {},
   "outputs": [],
   "source": [
    "spectrum = wave.make_spectrum()\n",
    "spectrum.plot()"
   ]
  },
  {
   "cell_type": "markdown",
   "metadata": {},
   "source": [
    "Make a square signal and plot a 3 period segment."
   ]
  },
  {
   "cell_type": "code",
   "execution_count": null,
   "metadata": {},
   "outputs": [],
   "source": [
    "signal = thinkdsp.SquareSignal(200)\n",
    "duration = signal.period*3\n",
    "segment = signal.make_wave(duration, framerate=10000)\n",
    "segment.plot()\n",
    "thinkplot.config(ylim=[-1.05, 1.05], legend=False)"
   ]
  },
  {
   "cell_type": "markdown",
   "metadata": {},
   "source": [
    "Make a wave and play it."
   ]
  },
  {
   "cell_type": "code",
   "execution_count": null,
   "metadata": {},
   "outputs": [],
   "source": [
    "wave = signal.make_wave(duration=0.5, framerate=10000)\n",
    "wave.apodize()\n",
    "wave.make_audio()"
   ]
  },
  {
   "cell_type": "markdown",
   "metadata": {},
   "source": [
    "Compute its spectrum and plot it."
   ]
  },
  {
   "cell_type": "code",
   "execution_count": null,
   "metadata": {},
   "outputs": [],
   "source": [
    "spectrum = wave.make_spectrum()\n",
    "spectrum.plot()"
   ]
  },
  {
   "cell_type": "markdown",
   "metadata": {},
   "source": [
    "Create a sawtooth signal and plot a 3 period segment."
   ]
  },
  {
   "cell_type": "code",
   "execution_count": null,
   "metadata": {},
   "outputs": [],
   "source": [
    "signal = thinkdsp.SawtoothSignal(200)\n",
    "duration = signal.period*3\n",
    "segment = signal.make_wave(duration, framerate=10000)\n",
    "segment.plot()"
   ]
  },
  {
   "cell_type": "markdown",
   "metadata": {},
   "source": [
    "Make a wave and play it."
   ]
  },
  {
   "cell_type": "code",
   "execution_count": null,
   "metadata": {},
   "outputs": [],
   "source": [
    "wave = signal.make_wave(duration=0.5, framerate=10000)\n",
    "wave.apodize()\n",
    "wave.make_audio()"
   ]
  },
  {
   "cell_type": "markdown",
   "metadata": {},
   "source": [
    "Compute its spectrum and plot it."
   ]
  },
  {
   "cell_type": "code",
   "execution_count": null,
   "metadata": {
    "scrolled": true
   },
   "outputs": [],
   "source": [
    "spectrum = wave.make_spectrum()\n",
    "spectrum.plot()"
   ]
  },
  {
   "cell_type": "markdown",
   "metadata": {},
   "source": [
    "### Aliasing\n",
    "\n",
    "Make a cosine signal at 4500 Hz, make a wave at framerate 10 kHz, and plot 5 periods."
   ]
  },
  {
   "cell_type": "code",
   "execution_count": null,
   "metadata": {},
   "outputs": [],
   "source": [
    "framerate = 10000\n",
    "\n",
    "signal = thinkdsp.CosSignal(4500)\n",
    "duration = signal.period*5\n",
    "segment = signal.make_wave(duration, framerate=framerate)\n",
    "segment.plot()"
   ]
  },
  {
   "cell_type": "markdown",
   "metadata": {},
   "source": [
    "Make a cosine signal at 5500 Hz, make a wave at framerate 10 kHz, and plot the same duration.\n",
    "\n",
    "With framerate 10 kHz, the folding frequency is 5 kHz, so a 4500 Hz signal and a 5500 Hz signal look exactly the same."
   ]
  },
  {
   "cell_type": "code",
   "execution_count": null,
   "metadata": {},
   "outputs": [],
   "source": [
    "signal = thinkdsp.CosSignal(5500)\n",
    "segment = signal.make_wave(duration, framerate=framerate)\n",
    "segment.plot()"
   ]
  },
  {
   "cell_type": "markdown",
   "metadata": {},
   "source": [
    "Make a triangle signal and plot the spectrum.  See how the harmonics get folded."
   ]
  },
  {
   "cell_type": "code",
   "execution_count": null,
   "metadata": {},
   "outputs": [],
   "source": [
    "signal = thinkdsp.TriangleSignal(1100)\n",
    "segment = signal.make_wave(duration=0.5, framerate=10000)\n",
    "spectrum = segment.make_spectrum()\n",
    "spectrum.plot()"
   ]
  },
  {
   "cell_type": "markdown",
   "metadata": {},
   "source": [
    "## Amplitude and phase\n",
    "\n",
    "Make a sawtooth wave."
   ]
  },
  {
   "cell_type": "code",
   "execution_count": null,
   "metadata": {},
   "outputs": [],
   "source": [
    "signal = thinkdsp.SawtoothSignal(500)\n",
    "wave = signal.make_wave(duration=1, framerate=10000)\n",
    "segment = wave.segment(duration=0.005)\n",
    "segment.plot()"
   ]
  },
  {
   "cell_type": "markdown",
   "metadata": {},
   "source": [
    "Play it."
   ]
  },
  {
   "cell_type": "code",
   "execution_count": null,
   "metadata": {
    "scrolled": true
   },
   "outputs": [],
   "source": [
    "wave.make_audio()"
   ]
  },
  {
   "cell_type": "markdown",
   "metadata": {},
   "source": [
    "Extract the wave array and compute the real FFT (which is just an FFT optimized for real inputs)."
   ]
  },
  {
   "cell_type": "code",
   "execution_count": null,
   "metadata": {},
   "outputs": [],
   "source": [
    "import numpy as np\n",
    "\n",
    "hs = np.fft.rfft(wave.ys)\n",
    "hs"
   ]
  },
  {
   "cell_type": "markdown",
   "metadata": {},
   "source": [
    "Compute the frequencies that match up with the elements of the FFT."
   ]
  },
  {
   "cell_type": "code",
   "execution_count": null,
   "metadata": {},
   "outputs": [],
   "source": [
    "n = len(wave.ys)                 # number of samples\n",
    "d = 1 / wave.framerate           # time between samples\n",
    "fs = np.fft.rfftfreq(n, d)\n",
    "fs"
   ]
  },
  {
   "cell_type": "markdown",
   "metadata": {},
   "source": [
    "Plot the magnitudes vs the frequencies."
   ]
  },
  {
   "cell_type": "code",
   "execution_count": null,
   "metadata": {},
   "outputs": [],
   "source": [
    "magnitude = np.absolute(hs)\n",
    "thinkplot.plot(fs, magnitude)"
   ]
  },
  {
   "cell_type": "markdown",
   "metadata": {},
   "source": [
    "Plot the phases vs the frequencies."
   ]
  },
  {
   "cell_type": "code",
   "execution_count": null,
   "metadata": {},
   "outputs": [],
   "source": [
    "angle = np.angle(hs)\n",
    "thinkplot.plot(fs, angle)"
   ]
  },
  {
   "cell_type": "markdown",
   "metadata": {},
   "source": [
    "## What does phase sound like?\n",
    "\n",
    "Shuffle the phases."
   ]
  },
  {
   "cell_type": "code",
   "execution_count": null,
   "metadata": {},
   "outputs": [],
   "source": [
    "import random\n",
    "random.shuffle(angle)\n",
    "thinkplot.plot(fs, angle)"
   ]
  },
  {
   "cell_type": "markdown",
   "metadata": {},
   "source": [
    "Put the shuffled phases back into the spectrum.  Each element in `hs` is a complex number with magitude $A$ and phase $\\phi$, with which we can compute $A e^{i \\phi}$"
   ]
  },
  {
   "cell_type": "code",
   "execution_count": null,
   "metadata": {},
   "outputs": [],
   "source": [
    "i = complex(0, 1)\n",
    "spectrum = wave.make_spectrum()\n",
    "spectrum.hs = magnitude * np.exp(i * angle)"
   ]
  },
  {
   "cell_type": "markdown",
   "metadata": {},
   "source": [
    "Convert the spectrum back to a wave (which uses irfft)."
   ]
  },
  {
   "cell_type": "code",
   "execution_count": null,
   "metadata": {},
   "outputs": [],
   "source": [
    "wave2 = spectrum.make_wave()\n",
    "wave2.normalize()\n",
    "segment = wave2.segment(duration=0.005)\n",
    "segment.plot()"
   ]
  },
  {
   "cell_type": "markdown",
   "metadata": {},
   "source": [
    "Play the wave with the shuffled phases."
   ]
  },
  {
   "cell_type": "code",
   "execution_count": null,
   "metadata": {},
   "outputs": [],
   "source": [
    "wave2.make_audio()"
   ]
  },
  {
   "cell_type": "markdown",
   "metadata": {},
   "source": [
    "For comparison, here's the original wave again."
   ]
  },
  {
   "cell_type": "code",
   "execution_count": null,
   "metadata": {
    "scrolled": true
   },
   "outputs": [],
   "source": [
    "wave.make_audio()"
   ]
  },
  {
   "cell_type": "markdown",
   "metadata": {},
   "source": [
    "Although the two signals have different waveforms, they have the same frequency components with the same amplitudes.  They differ only in phase."
   ]
  },
  {
   "cell_type": "markdown",
   "metadata": {},
   "source": [
    "## Aliasing interaction\n",
    "\n",
    "The following interaction explores the effect of aliasing on the harmonics of a sawtooth signal."
   ]
  },
  {
   "cell_type": "code",
   "execution_count": null,
   "metadata": {},
   "outputs": [],
   "source": [
    "def view_harmonics(freq, framerate):\n",
    "    signal = thinkdsp.SawtoothSignal(freq)\n",
    "    wave = signal.make_wave(duration=0.5, framerate=framerate)\n",
    "    spectrum = wave.make_spectrum()\n",
    "    spectrum.plot(color='blue')\n",
    "    thinkplot.show(xlabel='frequency', ylabel='amplitude')\n",
    "    \n",
    "    display(wave.make_audio())"
   ]
  },
  {
   "cell_type": "code",
   "execution_count": null,
   "metadata": {},
   "outputs": [],
   "source": [
    "from ipywidgets import interact, interactive, fixed\n",
    "import ipywidgets as widgets\n",
    "\n",
    "slider1 = widgets.FloatSlider(min=100, max=10000, value=100, step=100)\n",
    "slider2 = widgets.FloatSlider(min=5000, max=40000, value=10000, step=1000)\n",
    "interact(view_harmonics, freq=slider1, framerate=slider2);"
   ]
  },
  {
   "cell_type": "markdown",
   "metadata": {},
   "source": []
  },
  {
   "cell_type": "markdown",
   "metadata": {},
   "source": [
    "# Exercises"
   ]
  },
  {
   "cell_type": "markdown",
   "metadata": {},
   "source": [
    "## 2.2"
   ]
  },
  {
   "cell_type": "markdown",
   "metadata": {},
   "source": [
    " A sawtooth signal has a waveform that ramps up linearly from -1 to 1, then drops to -1 and repeats. See http://en.wikipedia.org/wiki/Sawtooth_wave\n",
    "\n",
    " Write a class called `SawtoothSignal` that extends `Signal` and provides `evaluate` to evaluate a sawtooth signal.\n",
    "\n",
    " Compute the spectrum of a sawtooth wave. How does the harmonic structure compare to triangle and square waves? "
   ]
  },
  {
   "cell_type": "markdown",
   "metadata": {},
   "source": [
    "From solutions:"
   ]
  },
  {
   "cell_type": "code",
   "execution_count": null,
   "metadata": {},
   "outputs": [],
   "source": [
    "import math\n",
    "PI2 = 2 * math.pi"
   ]
  },
  {
   "cell_type": "code",
   "execution_count": null,
   "metadata": {},
   "outputs": [],
   "source": [
    "class SawtoothSignal(thinkdsp.Sinusoid):\n",
    "    \"\"\"Represents a sawtooth signal.\"\"\"\n",
    "    \n",
    "    def evaluate(self, ts):\n",
    "        \"\"\"Evaluates the signal at the given times.\n",
    "\n",
    "        ts: float array of times\n",
    "        \n",
    "        returns: float wave array\n",
    "        \"\"\"\n",
    "        cycles = self.freq * ts + self.offset / PI2\n",
    "        frac, _ = np.modf(cycles)\n",
    "        ys = thinkdsp.normalize(thinkdsp.unbias(frac), self.amp)\n",
    "        return ys"
   ]
  },
  {
   "cell_type": "code",
   "execution_count": null,
   "metadata": {},
   "outputs": [],
   "source": [
    "sawtooth = SawtoothSignal().make_wave(duration=0.5, framerate=40000)\n",
    "sawtooth.make_audio()"
   ]
  },
  {
   "cell_type": "code",
   "execution_count": null,
   "metadata": {},
   "outputs": [],
   "source": [
    "sawtooth.make_spectrum().plot()"
   ]
  },
  {
   "cell_type": "markdown",
   "metadata": {},
   "source": [
    "Compared to a square wave, the sawtooth drops off similarly, but it includes both even and odd harmonics.  Notice that I had to cut the amplitude of the square wave to make them comparable."
   ]
  },
  {
   "cell_type": "code",
   "execution_count": null,
   "metadata": {},
   "outputs": [],
   "source": [
    "sawtooth.make_spectrum().plot(color='gray')\n",
    "square = thinkdsp.SquareSignal(amp=0.5).make_wave(duration=0.5, framerate=40000)\n",
    "square.make_spectrum().plot()"
   ]
  },
  {
   "cell_type": "markdown",
   "metadata": {},
   "source": [
    "Compared to a triangle wave, the sawtooth doesn't drop off as fast."
   ]
  },
  {
   "cell_type": "code",
   "execution_count": null,
   "metadata": {},
   "outputs": [],
   "source": [
    "sawtooth.make_spectrum().plot(color='gray')\n",
    "triangle = thinkdsp.TriangleSignal(amp=0.79).make_wave(duration=0.5, framerate=40000)\n",
    "triangle.make_spectrum().plot()"
   ]
  },
  {
   "cell_type": "markdown",
   "metadata": {},
   "source": [
    "Specifically, the harmonics of the triangle wave drop off in proportion to $1/f^2$, while the sawtooth drops off like $1/f$."
   ]
  },
  {
   "cell_type": "markdown",
   "metadata": {},
   "source": [
    "## 2.3"
   ]
  },
  {
   "cell_type": "markdown",
   "metadata": {},
   "source": [
    "Make a square signal at 1100 Hz and make a wave that samples\n",
    "it at 10000 frames per second. If you plot the spectrum, you can see that\n",
    "most of the harmonics are aliased. When you listen to the wave, can you\n",
    "hear the aliased harmonics?"
   ]
  },
  {
   "cell_type": "code",
   "execution_count": null,
   "metadata": {},
   "outputs": [],
   "source": [
    "# 1100 HZ square signal sampled at 44100 Hz\n",
    "square = thinkdsp.SquareSignal(1100).make_wave(duration=0.5, framerate=44000)\n",
    "square.make_spectrum().plot()"
   ]
  },
  {
   "cell_type": "code",
   "execution_count": null,
   "metadata": {},
   "outputs": [],
   "source": [
    "square.make_spectrum().peaks()[:10]"
   ]
  },
  {
   "cell_type": "code",
   "execution_count": null,
   "metadata": {},
   "outputs": [],
   "source": [
    "# 1100 HZ square signal sampled at 11kHz\n",
    "square = thinkdsp.SquareSignal(1100).make_wave(duration=5, framerate=10000)\n",
    "square.make_spectrum().plot()"
   ]
  },
  {
   "cell_type": "code",
   "execution_count": null,
   "metadata": {},
   "outputs": [],
   "source": [
    "square.make_spectrum().peaks()[:10]"
   ]
  },
  {
   "cell_type": "markdown",
   "metadata": {},
   "source": [
    "Make it bun dem:"
   ]
  },
  {
   "cell_type": "code",
   "execution_count": null,
   "metadata": {},
   "outputs": [],
   "source": [
    "square.make_audio()"
   ]
  },
  {
   "cell_type": "markdown",
   "metadata": {},
   "source": [
    "## 2.4"
   ]
  },
  {
   "cell_type": "markdown",
   "metadata": {},
   "source": [
    "If you have a spectrum object, spectrum, and print the first few\n",
    "values of spectrum.fs, you’ll see that they start at zero. So spectrum.hs[0]\n",
    "is the magnitude of the component with frequency 0. But what does that\n",
    "mean?\n",
    "\n",
    "Try this experiment:\n",
    "\n",
    "1. Make a triangle signal with frequency 440 and make a Wave with duration 0.01 seconds. Plot the waveform.\n",
    "\n",
    "2. Make a Spectrum object and print spectrum.hs[0]. What is the amplitude and phase of this component?\n",
    "\n",
    "3. Set spectrum.hs[0] = 100. Make a Wave from the modified Spectrum and plot it. What effect does this operation have on the waveform?"
   ]
  },
  {
   "cell_type": "markdown",
   "metadata": {},
   "source": [
    "1. Make a triangle signal with frequency 440 and make a Wave with duration 0.01 seconds. Plot the waveform."
   ]
  },
  {
   "cell_type": "code",
   "execution_count": null,
   "metadata": {},
   "outputs": [],
   "source": [
    "triangle = thinkdsp.TriangleSignal().make_wave(duration=0.01)\n",
    "triangle.plot()"
   ]
  },
  {
   "cell_type": "markdown",
   "metadata": {},
   "source": [
    "2. Make a Spectrum object and print spectrum.hs[0]. What is the amplitude and phase of this component?"
   ]
  },
  {
   "cell_type": "code",
   "execution_count": null,
   "metadata": {},
   "outputs": [],
   "source": [
    "spectrum = triangle.make_spectrum()\n",
    "spectrum.hs[0]\n",
    "# The first element of the spectrum is a complex number close to zero."
   ]
  },
  {
   "cell_type": "code",
   "execution_count": null,
   "metadata": {},
   "outputs": [],
   "source": [
    "spectrum.hs[0] = 100\n",
    "triangle.plot(color='gray')\n",
    "spectrum.make_wave().plot()\n",
    "# If we add to the zero-frequency component, \n",
    "#it has the effect of adding a vertical offset to the wave."
   ]
  },
  {
   "cell_type": "markdown",
   "metadata": {},
   "source": [
    "3. Set spectrum.hs[0] = 100. Make a Wave from the modified Spectrum and plot it. What effect does this operation have on the waveform?"
   ]
  },
  {
   "cell_type": "markdown",
   "metadata": {},
   "source": [
    "The zero-frequency component is the total of all the values in the signal, as we'll see when we get into the details of the DFT.  If the signal is unbiased, the zero-frequency component is 0.  In the context of electrical signals, the zero-frequency term is called the DC offset; that is, a direct current offset added to an AC signal."
   ]
  },
  {
   "cell_type": "markdown",
   "metadata": {},
   "source": [
    "## 2.5"
   ]
  },
  {
   "cell_type": "markdown",
   "metadata": {},
   "source": [
    "Write a function that takes a Spectrum as a parameter and\n",
    "modifies it by dividing each element of hs by the corresponding frequency\n",
    "from fs. Hint: since division by zero is undefined, you might want to set\n",
    "spectrum.hs[0] = 0.\n",
    "\n",
    "Test your function using a square, triangle, or sawtooth wave.\n",
    "\n",
    "1. Compute the Spectrum and plot it.\n",
    "\n",
    "2. Modify the Spectrum using your function and plot it again.\n",
    "\n",
    "3. Make a Wave from the modified Spectrum and listen to it. What effect\n",
    "does this operation have on the signal?\n"
   ]
  },
  {
   "cell_type": "code",
   "execution_count": null,
   "metadata": {},
   "outputs": [],
   "source": [
    "def filter_spectrum(spectrum):\n",
    "    spectrum.hs /= spectrum.fs\n",
    "    spectrum.hs[0] = 0"
   ]
  },
  {
   "cell_type": "code",
   "execution_count": null,
   "metadata": {},
   "outputs": [],
   "source": [
    "# Traingle wave\n",
    "wave = thinkdsp.TriangleSignal(freq=440).make_wave(duration=0.5)\n",
    "wave.make_audio()"
   ]
  },
  {
   "cell_type": "code",
   "execution_count": null,
   "metadata": {},
   "outputs": [],
   "source": [
    "high = 10000\n",
    "spectrum = wave.make_spectrum()\n",
    "spectrum.plot(high=high, color='gray')\n",
    "filter_spectrum(spectrum)\n",
    "spectrum.scale(440)\n",
    "spectrum.plot(high=high)"
   ]
  },
  {
   "cell_type": "code",
   "execution_count": null,
   "metadata": {},
   "outputs": [],
   "source": [
    "filtered = spectrum.make_wave()\n",
    "filtered.make_audio()"
   ]
  },
  {
   "cell_type": "markdown",
   "metadata": {},
   "source": [
    "The filter clobbers the harmonics, so it acts like a low pass filter.\n",
    "The triangle wave now sounds almost like a sine wave."
   ]
  },
  {
   "cell_type": "code",
   "execution_count": null,
   "metadata": {},
   "outputs": [],
   "source": [
    "spectrum.plot(high=high, color='gray')\n",
    "filter_spectrum(spectrum)\n",
    "filter_spectrum(spectrum)\n",
    "spectrum.scale(440)\n",
    "spectrum.plot(high=high)"
   ]
  },
  {
   "cell_type": "markdown",
   "metadata": {},
   "source": [
    "## 2.6"
   ]
  },
  {
   "cell_type": "markdown",
   "metadata": {},
   "source": [
    " Triangle and square waves have odd harmonics only; the sawtooth wave has both even and odd harmonics. The harmonics of the square\n",
    "and sawtooth waves drop off in proportion to $1/f$ ; the harmonics of the triangle wave drop off like $1/f^2$. Can you find a waveform that has even and\n",
    "odd harmonics that drop off like $1/f^2$\n",
    "\n",
    "Hint: There are two ways you could approach this: you could construct the\n",
    "signal you want by adding up sinusoids, or you could start with a signal\n",
    "that is similar to what you want and modify it."
   ]
  },
  {
   "cell_type": "code",
   "execution_count": null,
   "metadata": {},
   "outputs": [],
   "source": [
    "# One option is to start with a sawtooth wave, which has all of the harmonics we need:\n",
    "freq = 500\n",
    "signal = thinkdsp.SawtoothSignal(freq=freq)\n",
    "wave = signal.make_wave(duration=0.5, framerate=20000)\n",
    "wave.make_audio()\n"
   ]
  },
  {
   "cell_type": "code",
   "execution_count": null,
   "metadata": {},
   "outputs": [],
   "source": [
    "spectrum = wave.make_spectrum()\n",
    "spectrum.plot()"
   ]
  },
  {
   "cell_type": "markdown",
   "metadata": {},
   "source": [
    "If we apply the filter we wrote in the previous exercise, we can make the harmonics drop off like $1/f^2$."
   ]
  },
  {
   "cell_type": "code",
   "execution_count": null,
   "metadata": {},
   "outputs": [],
   "source": [
    "spectrum.plot(color='gray')\n",
    "filter_spectrum(spectrum)\n",
    "spectrum.scale(freq)\n",
    "spectrum.plot()"
   ]
  },
  {
   "cell_type": "code",
   "execution_count": null,
   "metadata": {},
   "outputs": [],
   "source": [
    "wave = spectrum.make_wave()\n",
    "wave.make_audio()"
   ]
  },
  {
   "cell_type": "code",
   "execution_count": null,
   "metadata": {},
   "outputs": [],
   "source": []
  }
 ],
 "metadata": {
  "kernelspec": {
   "display_name": "Python 3",
   "language": "python",
   "name": "python3"
  },
  "language_info": {
   "codemirror_mode": {
    "name": "ipython",
    "version": 3
   },
   "file_extension": ".py",
   "mimetype": "text/x-python",
   "name": "python",
   "nbconvert_exporter": "python",
   "pygments_lexer": "ipython3",
   "version": "3.7.6"
  }
 },
 "nbformat": 4,
 "nbformat_minor": 1
}
