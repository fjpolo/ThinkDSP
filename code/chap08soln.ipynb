{
 "cells": [
  {
   "cell_type": "markdown",
   "metadata": {},
   "source": [
    "## ThinkDSP\n",
    "\n",
    "This notebook contains solutions to exercises in Chapter 8: Filtering and Convolution\n",
    "\n",
    "Copyright 2015 Allen Downey\n",
    "\n",
    "License: [Creative Commons Attribution 4.0 International](http://creativecommons.org/licenses/by/4.0/)"
   ]
  },
  {
   "cell_type": "code",
   "execution_count": null,
   "metadata": {},
   "outputs": [],
   "source": [
    "from __future__ import print_function, division\n",
    "\n",
    "import thinkdsp\n",
    "import thinkplot\n",
    "\n",
    "import numpy as np\n",
    "import scipy.signal\n",
    "\n",
    "import warnings\n",
    "warnings.filterwarnings('ignore')\n",
    "\n",
    "PI2 = 2 * np.pi\n",
    "\n",
    "np.set_printoptions(precision=3, suppress=True)\n",
    "%matplotlib inline"
   ]
  },
  {
   "cell_type": "markdown",
   "metadata": {},
   "source": [
    "**Exercise:** In this chapter I claimed that the Fourier transform of a Gaussian\n",
    "curve is also a Gaussian curve.  For discrete Fourier transforms,\n",
    "this relationship is approximately true.\n",
    "\n",
    "Try it out for a few examples.  What happens to the Fourier transform\n",
    "as you vary `std`?"
   ]
  },
  {
   "cell_type": "markdown",
   "metadata": {},
   "source": [
    "*Solution:* I'll start with a Gaussian similar to the example in the book."
   ]
  },
  {
   "cell_type": "code",
   "execution_count": null,
   "metadata": {},
   "outputs": [],
   "source": [
    "gaussian = scipy.signal.gaussian(M=32, std=2)\n",
    "gaussian /= sum(gaussian)\n",
    "thinkplot.plot(gaussian)\n",
    "thinkplot.config(xlabel='Index')"
   ]
  },
  {
   "cell_type": "markdown",
   "metadata": {},
   "source": [
    "Here's what the FFT looks like:"
   ]
  },
  {
   "cell_type": "code",
   "execution_count": null,
   "metadata": {},
   "outputs": [],
   "source": [
    "fft_gaussian = np.fft.fft(gaussian)\n",
    "thinkplot.plot(abs(fft_gaussian))\n",
    "thinkplot.config(xlabel='Frequency (Hz)', ylabel='Amplitude')"
   ]
  },
  {
   "cell_type": "markdown",
   "metadata": {},
   "source": [
    "If we roll the negative frequencies around to the left, we can see more clearly that it is Gaussian, at least approximately."
   ]
  },
  {
   "cell_type": "code",
   "execution_count": null,
   "metadata": {},
   "outputs": [],
   "source": [
    "N = len(gaussian)\n",
    "fft_rolled = np.roll(fft_gaussian, N//2)\n",
    "thinkplot.plot(abs(fft_rolled))\n",
    "thinkplot.config(xlabel='Frequency (Hz)', ylabel='Amplitude')"
   ]
  },
  {
   "cell_type": "markdown",
   "metadata": {},
   "source": [
    "This function plots the Gaussian window and its FFT side-by-side."
   ]
  },
  {
   "cell_type": "code",
   "execution_count": null,
   "metadata": {},
   "outputs": [],
   "source": [
    "def plot_gaussian(std):\n",
    "    M = 32\n",
    "    gaussian = scipy.signal.gaussian(M=M, std=std)\n",
    "    gaussian /= sum(gaussian)\n",
    "    \n",
    "    thinkplot.preplot(num=2, cols=2)\n",
    "    thinkplot.plot(gaussian)\n",
    "    thinkplot.config(xlabel='Time', legend=False)\n",
    "\n",
    "    fft_gaussian = np.fft.fft(gaussian)\n",
    "    fft_rolled = np.roll(fft_gaussian, M//2)\n",
    "    \n",
    "    thinkplot.subplot(2)\n",
    "    thinkplot.plot(abs(fft_rolled))\n",
    "    thinkplot.config(xlabel='Frequency')\n",
    "\n",
    "    \n",
    "plot_gaussian(2)"
   ]
  },
  {
   "cell_type": "markdown",
   "metadata": {},
   "source": [
    "Now we can make an interaction that shows what happens as `std` varies."
   ]
  },
  {
   "cell_type": "code",
   "execution_count": null,
   "metadata": {},
   "outputs": [],
   "source": [
    "from ipywidgets import interact, interactive, fixed\n",
    "import ipywidgets as widgets\n",
    "\n",
    "slider = widgets.FloatSlider(min=0.1, max=10, value=2)\n",
    "interact(plot_gaussian, std=slider);"
   ]
  },
  {
   "cell_type": "markdown",
   "metadata": {},
   "source": [
    "As `std` increases, the Gaussian gets wider and its FFT gets narrower.\n",
    "\n",
    "In terms of continuous mathematics, if\n",
    "\n",
    "$f(x) = e^{-a x^2}$\n",
    "\n",
    "which is a Gaussian with mean 0 and standard deviation $1/a$, its Fourier transform is\n",
    "\n",
    "$F(k) = \\sqrt{\\frac{\\pi}{a}} e^{-\\pi^2 k^2/a}$\n",
    "\n",
    "which is a Gaussian with standard deviation $a / \\pi^2$.  So there is an inverse relationship between the standard deviations of $f$ and $F$.\n",
    "\n",
    "For the proof, see http://mathworld.wolfram.com/FourierTransformGaussian.html"
   ]
  },
  {
   "cell_type": "markdown",
   "metadata": {
    "collapsed": true
   },
   "source": [
    "**Exercise:** If you did the exercises in Chapter 3, you saw the effect of the Hamming window, and some of the other windows provided by NumPy, on spectral leakage.  We can get some insight into the effect of these windows by looking at their DFTs.\n",
    "\n",
    "In addition to the Gaussian window we used in this window, create a Hamming window with the same size.  Zero pad the windows and plot their DFTs.  Which window acts as a better low-pass filter?  You might find it useful to plot the DFTs on a log-$y$ scale.\n",
    "\n",
    "Experiment with a few different windows and a few different sizes."
   ]
  },
  {
   "cell_type": "markdown",
   "metadata": {},
   "source": [
    "*Solution:* Following the examples from the chapter, I'll create a 1-second wave sampled at 44.1 kHz."
   ]
  },
  {
   "cell_type": "code",
   "execution_count": null,
   "metadata": {},
   "outputs": [],
   "source": [
    "signal = thinkdsp.SquareSignal(freq=440)\n",
    "wave = signal.make_wave(duration=1.0, framerate=44100)"
   ]
  },
  {
   "cell_type": "markdown",
   "metadata": {},
   "source": [
    "And I'll create a few windows.  I chose the standard deviation of the Gaussian window to make it similar to the others."
   ]
  },
  {
   "cell_type": "code",
   "execution_count": null,
   "metadata": {},
   "outputs": [],
   "source": [
    "M = 15\n",
    "std = 2.5\n",
    "\n",
    "gaussian = scipy.signal.gaussian(M=M, std=std)   \n",
    "bartlett = np.bartlett(M)\n",
    "blackman = np.blackman(M)\n",
    "hamming = np.hamming(M)\n",
    "hanning = np.hanning(M)\n",
    "\n",
    "windows = [gaussian, blackman, hamming, hanning]\n",
    "names = ['gaussian', 'blackman', 'hamming', 'hanning']\n",
    "\n",
    "for window in windows:\n",
    "    window /= sum(window)"
   ]
  },
  {
   "cell_type": "markdown",
   "metadata": {},
   "source": [
    "Let's see what the windows look like."
   ]
  },
  {
   "cell_type": "code",
   "execution_count": null,
   "metadata": {},
   "outputs": [],
   "source": [
    "thinkplot.preplot(4)\n",
    "for window, name in zip(windows, names):\n",
    "    thinkplot.plot(window, label=name)\n",
    "\n",
    "thinkplot.config(xlabel='Index', legend=True, loc='center bottom')"
   ]
  },
  {
   "cell_type": "markdown",
   "metadata": {},
   "source": [
    "They are pretty similar.  Let's see what their DFTs look like:"
   ]
  },
  {
   "cell_type": "code",
   "execution_count": null,
   "metadata": {},
   "outputs": [],
   "source": [
    "def plot_window_dfts(windows, names):\n",
    "    thinkplot.preplot(5)\n",
    "\n",
    "    for window, name in zip(windows, names):\n",
    "        padded = thinkdsp.zero_pad(window, len(wave))\n",
    "        dft_window = np.fft.rfft(padded)\n",
    "        thinkplot.plot(abs(dft_window), label=name)"
   ]
  },
  {
   "cell_type": "markdown",
   "metadata": {},
   "source": [
    "Also pretty similar, but it looks like Hamming drops off the fastest, Blackman the slowest, and Hanning has the most visible sidelobes."
   ]
  },
  {
   "cell_type": "code",
   "execution_count": null,
   "metadata": {},
   "outputs": [],
   "source": [
    "plot_window_dfts(windows, names)\n",
    "thinkplot.config(xlabel='Frequency (Hz)', loc='upper right')"
   ]
  },
  {
   "cell_type": "markdown",
   "metadata": {},
   "source": [
    "On a log scale we can see that the Hamming and Hanning drop off faster than the other two at first.  And the Hamming and Gaussian windows seem to have the most persistent sidelobes.  The Hanning window seems to have the best combination of fast drop off and minimal sidelobes."
   ]
  },
  {
   "cell_type": "code",
   "execution_count": null,
   "metadata": {},
   "outputs": [],
   "source": [
    "plot_window_dfts(windows, names)\n",
    "thinkplot.config(xlabel='Frequency (Hz)', yscale='log', \n",
    "                 loc='lower left')"
   ]
  },
  {
   "cell_type": "markdown",
   "metadata": {},
   "source": []
  },
  {
   "cell_type": "code",
   "execution_count": null,
   "metadata": {},
   "outputs": [],
   "source": []
  }
 ],
 "metadata": {
  "kernelspec": {
   "display_name": "Python 3",
   "language": "python",
   "name": "python3"
  },
  "language_info": {
   "codemirror_mode": {
    "name": "ipython",
    "version": 3
   },
   "file_extension": ".py",
   "mimetype": "text/x-python",
   "name": "python",
   "nbconvert_exporter": "python",
   "pygments_lexer": "ipython3",
   "version": "3.7.6"
  }
 },
 "nbformat": 4,
 "nbformat_minor": 1
}
